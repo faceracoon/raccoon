{
  "nbformat": 4,
  "nbformat_minor": 0,
  "metadata": {
    "colab": {
      "name": "SWOT_Analysis.ipynb",
      "provenance": [],
      "authorship_tag": "ABX9TyPeoI+MIAUUCLllirZAcqv2",
      "include_colab_link": true
    },
    "kernelspec": {
      "name": "python3",
      "display_name": "Python 3"
    }
  },
  "cells": [
    {
      "cell_type": "markdown",
      "metadata": {
        "id": "view-in-github",
        "colab_type": "text"
      },
      "source": [
        "<a href=\"https://colab.research.google.com/github/faceracoon/raccoon/blob/master/SWOT_Analysis.ipynb\" target=\"_parent\"><img src=\"https://colab.research.google.com/assets/colab-badge.svg\" alt=\"Open In Colab\"/></a>"
      ]
    },
    {
      "cell_type": "markdown",
      "metadata": {
        "id": "fa6CdUsqyb6J"
      },
      "source": [
        "Информация об исполнителе:"
      ]
    },
    {
      "cell_type": "code",
      "metadata": {
        "id": "FOPDyVC3yVVG",
        "colab": {
          "base_uri": "https://localhost:8080/"
        },
        "outputId": "2bdf7bb0-2098-4510-d194-9569d59942e5"
      },
      "source": [
        "print('Группа: 20БИ-2')\n",
        "print('ФИО: Караваев Александр Юрьевич')\n",
        "!ln -fs /usr/share/zoneinfo/Europe/Moscow /etc/localtime\n",
        "!date"
      ],
      "execution_count": null,
      "outputs": [
        {
          "output_type": "stream",
          "text": [
            "Группа: 20БИ-2\n",
            "ФИО: Караваев Александр Юрьевич\n",
            "Wed Mar  3 21:52:59 MSK 2021\n"
          ],
          "name": "stdout"
        }
      ]
    },
    {
      "cell_type": "code",
      "metadata": {
        "id": "TX_XWRhQcCld",
        "colab": {
          "base_uri": "https://localhost:8080/"
        },
        "outputId": "f6fcb933-1a39-4a95-a6cc-52772669e6b0"
      },
      "source": [
        "from google.colab import auth\n",
        "auth.authenticate_user()\n",
        "!pip install --upgrade gspread\n",
        "import gspread\n",
        "from google.colab import drive\n",
        "drive.mount('/content/drive')\n",
        "import os\n",
        "print(os.getcwd())\n",
        "print(os.listdir('./'))\n",
        "print(os.listdir('/content/drive'))\n",
        "print(os.listdir('/content/drive/MyDrive/Colab Notebooks/'))\n",
        "%ll -lF /content/drive/MyDrive/\"Colab Notebooks\"/\n",
        "from oauth2client.client import GoogleCredentials\n",
        "gs = gspread.authorize(GoogleCredentials.get_application_default())"
      ],
      "execution_count": null,
      "outputs": [
        {
          "output_type": "stream",
          "text": [
            "Requirement already up-to-date: gspread in /usr/local/lib/python3.7/dist-packages (3.7.0)\n",
            "Requirement already satisfied, skipping upgrade: google-auth-oauthlib>=0.4.1 in /usr/local/lib/python3.7/dist-packages (from gspread) (0.4.3)\n",
            "Requirement already satisfied, skipping upgrade: google-auth>=1.12.0 in /usr/local/lib/python3.7/dist-packages (from gspread) (1.27.1)\n",
            "Requirement already satisfied, skipping upgrade: requests-oauthlib>=0.7.0 in /usr/local/lib/python3.7/dist-packages (from google-auth-oauthlib>=0.4.1->gspread) (1.3.0)\n",
            "Requirement already satisfied, skipping upgrade: rsa<5,>=3.1.4; python_version >= \"3.6\" in /usr/local/lib/python3.7/dist-packages (from google-auth>=1.12.0->gspread) (4.7.2)\n",
            "Requirement already satisfied, skipping upgrade: six>=1.9.0 in /usr/local/lib/python3.7/dist-packages (from google-auth>=1.12.0->gspread) (1.15.0)\n",
            "Requirement already satisfied, skipping upgrade: cachetools<5.0,>=2.0.0 in /usr/local/lib/python3.7/dist-packages (from google-auth>=1.12.0->gspread) (4.2.1)\n",
            "Requirement already satisfied, skipping upgrade: pyasn1-modules>=0.2.1 in /usr/local/lib/python3.7/dist-packages (from google-auth>=1.12.0->gspread) (0.2.8)\n",
            "Requirement already satisfied, skipping upgrade: setuptools>=40.3.0 in /usr/local/lib/python3.7/dist-packages (from google-auth>=1.12.0->gspread) (54.1.2)\n",
            "Requirement already satisfied, skipping upgrade: requests>=2.0.0 in /usr/local/lib/python3.7/dist-packages (from requests-oauthlib>=0.7.0->google-auth-oauthlib>=0.4.1->gspread) (2.23.0)\n",
            "Requirement already satisfied, skipping upgrade: oauthlib>=3.0.0 in /usr/local/lib/python3.7/dist-packages (from requests-oauthlib>=0.7.0->google-auth-oauthlib>=0.4.1->gspread) (3.1.0)\n",
            "Requirement already satisfied, skipping upgrade: pyasn1>=0.1.3 in /usr/local/lib/python3.7/dist-packages (from rsa<5,>=3.1.4; python_version >= \"3.6\"->google-auth>=1.12.0->gspread) (0.4.8)\n",
            "Requirement already satisfied, skipping upgrade: chardet<4,>=3.0.2 in /usr/local/lib/python3.7/dist-packages (from requests>=2.0.0->requests-oauthlib>=0.7.0->google-auth-oauthlib>=0.4.1->gspread) (3.0.4)\n",
            "Requirement already satisfied, skipping upgrade: idna<3,>=2.5 in /usr/local/lib/python3.7/dist-packages (from requests>=2.0.0->requests-oauthlib>=0.7.0->google-auth-oauthlib>=0.4.1->gspread) (2.10)\n",
            "Requirement already satisfied, skipping upgrade: urllib3!=1.25.0,!=1.25.1,<1.26,>=1.21.1 in /usr/local/lib/python3.7/dist-packages (from requests>=2.0.0->requests-oauthlib>=0.7.0->google-auth-oauthlib>=0.4.1->gspread) (1.24.3)\n",
            "Requirement already satisfied, skipping upgrade: certifi>=2017.4.17 in /usr/local/lib/python3.7/dist-packages (from requests>=2.0.0->requests-oauthlib>=0.7.0->google-auth-oauthlib>=0.4.1->gspread) (2020.12.5)\n",
            "Drive already mounted at /content/drive; to attempt to forcibly remount, call drive.mount(\"/content/drive\", force_remount=True).\n",
            "/content\n",
            "['.config', 'drive', 'adc.json', 'sample_data']\n",
            "['.shortcut-targets-by-id', 'MyDrive', '.file-revisions-by-id', '.Trash']\n",
            "['test2.txt', 'test1.txt', 'Копия блокнота \"Karavaev.ipynb\"', 'Karavaev (1).ipynb', 'Karavaev.ipynb', 'SWOT.gsheet', 'SWOT_Analysis.ipynb']\n",
            "total 48\n",
            "-rw------- 1 root  3918 Nov 18 12:55 'Karavaev (1).ipynb'\n",
            "-rw------- 1 root  3950 Dec  9 12:57  Karavaev.ipynb\n",
            "-rw------- 1 root 34943 Mar 25 14:37  SWOT_Analysis.ipynb\n",
            "-rw------- 1 root   151 Mar 25 14:36  SWOT.gsheet\n",
            "-rw------- 1 root    19 Nov 18 12:18  test1.txt\n",
            "-rw------- 1 root   241 Nov 18 11:11  test2.txt\n",
            "-rw------- 1 root  4023 Nov 18 12:55 'Копия блокнота \"Karavaev.ipynb\"'\n"
          ],
          "name": "stdout"
        }
      ]
    },
    {
      "cell_type": "code",
      "metadata": {
        "id": "fhhlzLXfdthQ",
        "colab": {
          "base_uri": "https://localhost:8080/",
          "height": 830
        },
        "outputId": "ac70067a-c683-4d40-df7b-04e4b1189828"
      },
      "source": [
        "import os\n",
        "import time\n",
        "%ll -lAF /content/drive/MyDrive/\"Colab Notebooks\"/\n",
        "os.stat('/content/drive/MyDrive/Colab Notebooks/SWOT.gsheet')\n",
        "table = gs.open_by_key('1qlFhIagqcxFTlBYO9JMjfjkEijc-IQ7f6GM-4QAsq_w')\n",
        "worksheet = table.worksheet('Strengths')\n",
        "rows = worksheet.get_all_values()\n",
        "name = list()\n",
        "actions = list()\n",
        "importance = list()\n",
        "probability = list()\n",
        "power = list()\n",
        "power_sh = list()\n",
        "power_raw = list()\n",
        "i=0\n",
        "for row in rows:\n",
        "  if(i>0):\n",
        "    print (i, row)\n",
        "    name.append(row[0])\n",
        "    actions.append(row[1])\n",
        "    importance.append(int(row[2]))\n",
        "    probability.append(float(row[3]))\n",
        "    power.append(int(row[2])*float(row[3]))\n",
        "    power_raw = list()\n",
        "    power_raw.append(int(row[2])*float(row[3]))\n",
        "    power_sh.append(power_raw)\n",
        "  i+=1\n",
        "worksheet.update('E2:E8', power_sh)\n",
        "print('\\n',name, actions, importance, probability, power, sep='\\n', end='\\n\\n')\n",
        "strengths_sum = sum(power)\n",
        "print('Суммарная сила сильный сторон:', strengths_sum)\n",
        "worksheet.update('F2', strengths_sum)\n",
        "\n",
        "import matplotlib\n",
        "import matplotlib.pyplot as plt\n",
        "import numpy as np\n",
        "i=0\n",
        "labels = list()\n",
        "cols = worksheet.col_values(1)\n",
        "for col in cols:\n",
        "  if(i>0):\n",
        "    labels.append(i)\n",
        "  i+=1\n",
        "width = 0.4\n",
        "fig, ax = plt.subplots()\n",
        "x = np.arange(len(labels))\n",
        "rects = ax.bar(x - width/2, power, width)\n",
        "ax.set_ylabel('Мощность воздействия')\n",
        "ax.set_title('Сильные стороны')\n",
        "ax.set_xticks(x)\n",
        "ax.set_xticklabels(labels)\n",
        "def autolabel(rects):\n",
        "    for rect in rects:\n",
        "        height = rect.get_height()\n",
        "        ax.annotate('{}'.format(height),\n",
        "                    xy=(rect.get_x() + rect.get_width() / 2, height),\n",
        "                    xytext=(0, 3), \n",
        "                    textcoords=\"offset points\",\n",
        "                    ha='center', va='bottom')\n",
        "autolabel(rects)\n",
        "fig.tight_layout()\n",
        "plt.show()              \n",
        "j=0\n",
        "for col in cols:\n",
        "  if(j>0):\n",
        "    print(j, '-', col)\n",
        "  j+=1"
      ],
      "execution_count": null,
      "outputs": [
        {
          "output_type": "stream",
          "text": [
            "total 48\n",
            "-rw------- 1 root  3918 Nov 18 12:55 'Karavaev (1).ipynb'\n",
            "-rw------- 1 root  3950 Dec  9 12:57  Karavaev.ipynb\n",
            "-rw------- 1 root 34943 Mar 25 14:37  SWOT_Analysis.ipynb\n",
            "-rw------- 1 root   151 Mar 25 14:36  SWOT.gsheet\n",
            "-rw------- 1 root    19 Nov 18 12:18  test1.txt\n",
            "-rw------- 1 root   241 Nov 18 11:11  test2.txt\n",
            "-rw------- 1 root  4023 Nov 18 12:55 'Копия блокнота \"Karavaev.ipynb\"'\n",
            "1 ['Персональный подход к клиенту\\n', 'Квалифицированный обученный рабочий состав', '10', '0.8', '8.00', '30.90']\n",
            "2 ['Высокое качество продукции\\n', 'Cырьё высшей категории', '8', '1', '8.00', '']\n",
            "3 ['Высокая прибыльность бизнеса', 'Уникальный бизнес-план', '8', '0.9', '7.20', '']\n",
            "4 ['Большой охват аудитории', 'Расположение кафе в центре города', '7', '0.6', '4.20', '']\n",
            "5 ['Уникальный интерьер в стиле мф \"Шрек\"', 'Дизайнер крайне корпотливо проработал дизайн кафе', '7', '0.5', '3.50', '']\n",
            "\n",
            "\n",
            "['Персональный подход к клиенту\\n', 'Высокое качество продукции\\n', 'Высокая прибыльность бизнеса', 'Большой охват аудитории', 'Уникальный интерьер в стиле мф \"Шрек\"']\n",
            "['Квалифицированный обученный рабочий состав', 'Cырьё высшей категории', 'Уникальный бизнес-план', 'Расположение кафе в центре города', 'Дизайнер крайне корпотливо проработал дизайн кафе']\n",
            "[10, 8, 8, 7, 7]\n",
            "[0.8, 1.0, 0.9, 0.6, 0.5]\n",
            "[8.0, 8.0, 7.2, 4.2, 3.5]\n",
            "\n",
            "Суммарная сила сильный сторон: 30.9\n"
          ],
          "name": "stdout"
        },
        {
          "output_type": "display_data",
          "data": {
            "image/png": "[encoded data removed]",
            "text/plain": [
              "<Figure size 432x288 with 1 Axes>"
            ]
          },
          "metadata": {
            "tags": [],
            "needs_background": "light"
          }
        },
        {
          "output_type": "stream",
          "text": [
            "1 - Персональный подход к клиенту\n",
            "\n",
            "2 - Высокое качество продукции\n",
            "\n",
            "3 - Высокая прибыльность бизнеса\n",
            "4 - Большой охват аудитории\n",
            "5 - Уникальный интерьер в стиле мф \"Шрек\"\n"
          ],
          "name": "stdout"
        }
      ]
    },
    {
      "cell_type": "code",
      "metadata": {
        "id": "H5uf77hrdvnW",
        "colab": {
          "base_uri": "https://localhost:8080/",
          "height": 756
        },
        "outputId": "d6c4c494-72c3-4e67-d1cd-e3a18358add5"
      },
      "source": [
        "import os\n",
        "import time\n",
        "%ll -lAF /content/drive/MyDrive/\"Colab Notebooks\"/\n",
        "os.stat('/content/drive/MyDrive/Colab Notebooks/SWOT.gsheet')\n",
        "table = gs.open_by_key('1qlFhIagqcxFTlBYO9JMjfjkEijc-IQ7f6GM-4QAsq_w')\n",
        "worksheet = table.worksheet('Weaknesses')\n",
        "rows = worksheet.get_all_values()\n",
        "name = list()\n",
        "actions = list()\n",
        "importance = list()\n",
        "probability = list()\n",
        "power = list()\n",
        "power_sh = list()\n",
        "power_raw = list()\n",
        "i=0\n",
        "for row in rows:\n",
        "  if(i>0):\n",
        "    print (i, row)\n",
        "    name.append(row[0])\n",
        "    actions.append(row[1])\n",
        "    importance.append(int(row[2]))\n",
        "    probability.append(float(row[3]))\n",
        "    power.append(int(row[2])*float(row[3]))\n",
        "    power_raw = list()\n",
        "    power_raw.append(int(row[2])*float(row[3])) \n",
        "    power_sh.append(power_raw)\n",
        "  i+=1\n",
        "worksheet.update('E2:E8', power_sh)\n",
        "print('\\n',name, actions, importance, probability, power, sep='\\n', end='\\n\\n')\n",
        "weaknesses_sum = sum(power)\n",
        "print('Суммарная сила сильный сторон:', weaknesses_sum)\n",
        "worksheet.update('F2', weaknesses_sum)\n",
        "\n",
        "import matplotlib\n",
        "import matplotlib.pyplot as plt\n",
        "import numpy as np\n",
        "i=0\n",
        "labels = list()\n",
        "cols = worksheet.col_values(1)\n",
        "for col in cols:\n",
        "  if(i>0):\n",
        "    labels.append(i)\n",
        "  i+=1\n",
        "width = 0.4 \n",
        "fig, ax = plt.subplots()\n",
        "x = np.arange(len(labels))\n",
        "rects = ax.bar(x - width/2, power, width)\n",
        "ax.set_ylabel('Мощность воздействия')\n",
        "ax.set_title('Слабые стороны')\n",
        "ax.set_xticks(x)\n",
        "ax.set_xticklabels(labels)\n",
        "def autolabel(rects):\n",
        "    for rect in rects:\n",
        "        height = rect.get_height()\n",
        "        ax.annotate('{}'.format(height),\n",
        "                    xy=(rect.get_x() + rect.get_width() / 2, height),\n",
        "                    xytext=(0, 3), \n",
        "                    textcoords=\"offset points\",\n",
        "                    ha='center', va='bottom')\n",
        "autolabel(rects) \n",
        "fig.tight_layout()\n",
        "plt.show()              \n",
        "j=0\n",
        "for col in cols: \n",
        "  if(j>0):\n",
        "    print(j, '-', col)\n",
        "  j+=1"
      ],
      "execution_count": null,
      "outputs": [
        {
          "output_type": "stream",
          "text": [
            "total 48\n",
            "-rw------- 1 root  3918 Nov 18 12:55 'Karavaev (1).ipynb'\n",
            "-rw------- 1 root  3950 Dec  9 12:57  Karavaev.ipynb\n",
            "-rw------- 1 root 34947 Mar 25 14:39  SWOT_Analysis.ipynb\n",
            "-rw------- 1 root   151 Mar 25 14:37  SWOT.gsheet\n",
            "-rw------- 1 root    19 Nov 18 12:18  test1.txt\n",
            "-rw------- 1 root   241 Nov 18 11:11  test2.txt\n",
            "-rw------- 1 root  4023 Nov 18 12:55 'Копия блокнота \"Karavaev.ipynb\"'\n",
            "1 ['Задержка поставок продукции', 'Заключение юридического договора о постоянных поставках', '9', '0.9', '', '']\n",
            "2 ['Слабый иммунитет официантов', 'Есть возможность болезни официантов', '7', '0.9', '', '']\n",
            "3 ['Воровство продуктов персоналом', 'Наблюдение за персоналом посредством видеокамер/охранника', '7', '0.5', '', '']\n",
            "4 ['Травма повара/кондитера во время готовки', 'Маленькая вероятность', '2', '0.2', '', '']\n",
            "\n",
            "\n",
            "['Задержка поставок продукции', 'Слабый иммунитет официантов', 'Воровство продуктов персоналом', 'Травма повара/кондитера во время готовки']\n",
            "['Заключение юридического договора о постоянных поставках', 'Есть возможность болезни официантов', 'Наблюдение за персоналом посредством видеокамер/охранника', 'Маленькая вероятность']\n",
            "[9, 7, 7, 2]\n",
            "[0.9, 0.9, 0.5, 0.2]\n",
            "[8.1, 6.3, 3.5, 0.4]\n",
            "\n",
            "Суммарная сила сильный сторон: 18.299999999999997\n"
          ],
          "name": "stdout"
        },
        {
          "output_type": "display_data",
          "data": {
            "image/png": "[encoded data removed]",
            "text/plain": [
              "<Figure size 432x288 with 1 Axes>"
            ]
          },
          "metadata": {
            "tags": [],
            "needs_background": "light"
          }
        },
        {
          "output_type": "stream",
          "text": [
            "1 - Задержка поставок продукции\n",
            "2 - Слабый иммунитет официантов\n",
            "3 - Воровство продуктов персоналом\n",
            "4 - Травма повара/кондитера во время готовки\n"
          ],
          "name": "stdout"
        }
      ]
    },
    {
      "cell_type": "code",
      "metadata": {
        "colab": {
          "base_uri": "https://localhost:8080/",
          "height": 756
        },
        "id": "kbHz14naxQN3",
        "outputId": "7d831c53-c4da-4300-8c46-dec77f9f009c"
      },
      "source": [
        "import os\n",
        "import time\n",
        "%ll -lAF /content/drive/MyDrive/\"Colab Notebooks\"/\n",
        "os.stat('/content/drive/MyDrive/Colab Notebooks/SWOT.gsheet')\n",
        "table = gs.open_by_key('1qlFhIagqcxFTlBYO9JMjfjkEijc-IQ7f6GM-4QAsq_w')\n",
        "worksheet = table.worksheet('Opportunities')\n",
        "rows = worksheet.get_all_values()\n",
        "name = list()\n",
        "actions = list()\n",
        "importance = list()\n",
        "probability = list()\n",
        "power = list()\n",
        "power_sh = list()\n",
        "power_raw = list()\n",
        "i=0\n",
        "for row in rows:\n",
        "  if(i>0):\n",
        "    print (i, row)\n",
        "    name.append(row[0])\n",
        "    actions.append(row[1])\n",
        "    importance.append(int(row[2]))\n",
        "    probability.append(float(row[3]))\n",
        "    power.append(int(row[2])*float(row[3]))\n",
        "    power_raw = list()\n",
        "    power_raw.append(int(row[2])*float(row[3])) \n",
        "    power_sh.append(power_raw)\n",
        "  i+=1\n",
        "worksheet.update('E2:E8', power_sh)\n",
        "print('\\n',name, actions, importance, probability, power, sep='\\n', end='\\n\\n')\n",
        "opportunities_sum = sum(power)\n",
        "print('Суммарная сила сильный сторон:', opportunities_sum)\n",
        "worksheet.update('F2', opportunities_sum)\n",
        "\n",
        "import matplotlib\n",
        "import matplotlib.pyplot as plt\n",
        "import numpy as np\n",
        "i=0\n",
        "labels = list()\n",
        "cols = worksheet.col_values(1)\n",
        "for col in cols:\n",
        "  if(i>0):\n",
        "    labels.append(i)\n",
        "  i+=1\n",
        "width = 0.4 \n",
        "fig, ax = plt.subplots()\n",
        "x = np.arange(len(labels))\n",
        "rects = ax.bar(x - width/2, power, width)\n",
        "ax.set_ylabel('Мощность воздействия')\n",
        "ax.set_title('Возможности')\n",
        "ax.set_xticks(x)\n",
        "ax.set_xticklabels(labels)\n",
        "def autolabel(rects):\n",
        "    for rect in rects:\n",
        "        height = rect.get_height()\n",
        "        ax.annotate('{}'.format(height),\n",
        "                    xy=(rect.get_x() + rect.get_width() / 2, height),\n",
        "                    xytext=(0, 3), \n",
        "                    textcoords=\"offset points\",\n",
        "                    ha='center', va='bottom')\n",
        "autolabel(rects) \n",
        "fig.tight_layout()\n",
        "plt.show()              \n",
        "j=0\n",
        "for col in cols: \n",
        "  if(j>0):\n",
        "    print(j, '-', col)\n",
        "  j+=1"
      ],
      "execution_count": null,
      "outputs": [
        {
          "output_type": "stream",
          "text": [
            "total 74\n",
            "-rw------- 1 root  3918 Nov 18 12:55 'Karavaev (1).ipynb'\n",
            "-rw------- 1 root  3950 Dec  9 12:57  Karavaev.ipynb\n",
            "-rw------- 1 root 61840 Mar 25 14:41  SWOT_Analysis.ipynb\n",
            "-rw------- 1 root   151 Mar 25 14:45  SWOT.gsheet\n",
            "-rw------- 1 root    19 Nov 18 12:18  test1.txt\n",
            "-rw------- 1 root   241 Nov 18 11:11  test2.txt\n",
            "-rw------- 1 root  4023 Nov 18 12:55 'Копия блокнота \"Karavaev.ipynb\"'\n",
            "1 ['Уменьшить кредит', 'Покупка качественного оборудования с рук', '8', '0.8', '5.1', '22.1']\n",
            "2 ['Высокая посещаемость', 'Люди с детьми, проходящие мимо кафе, будут вынуждены зайти', '9', '0.7', '5.1', '']\n",
            "3 ['Быстрая готовность заказа', 'Засчёт простоты приготовления блюд', '9', '0.9', '7.1', '']\n",
            "4 ['Быстрая качественная доставка на дом', 'Наличие большого количества официантов, готовых доставить заказ на дом', '6', '0.5', '1.1', '']\n",
            "\n",
            "\n",
            "['Уменьшить кредит', 'Высокая посещаемость', 'Быстрая готовность заказа', 'Быстрая качественная доставка на дом']\n",
            "['Покупка качественного оборудования с рук', 'Люди с детьми, проходящие мимо кафе, будут вынуждены зайти', 'Засчёт простоты приготовления блюд', 'Наличие большого количества официантов, готовых доставить заказ на дом']\n",
            "[8, 9, 9, 6]\n",
            "[0.8, 0.7, 0.9, 0.5]\n",
            "[6.4, 6.3, 8.1, 3.0]\n",
            "\n",
            "Суммарная сила сильный сторон: 23.799999999999997\n"
          ],
          "name": "stdout"
        },
        {
          "output_type": "display_data",
          "data": {
            "image/png": "[encoded data removed]",
            "text/plain": [
              "<Figure size 432x288 with 1 Axes>"
            ]
          },
          "metadata": {
            "tags": [],
            "needs_background": "light"
          }
        },
        {
          "output_type": "stream",
          "text": [
            "1 - Уменьшить кредит\n",
            "2 - Высокая посещаемость\n",
            "3 - Быстрая готовность заказа\n",
            "4 - Быстрая качественная доставка на дом\n"
          ],
          "name": "stdout"
        }
      ]
    },
    {
      "cell_type": "code",
      "metadata": {
        "colab": {
          "base_uri": "https://localhost:8080/",
          "height": 756
        },
        "id": "OlhlKhdfypUb",
        "outputId": "5d920ff3-5c46-42da-dd1f-0f2f8f7a8261"
      },
      "source": [
        "import os\n",
        "import time\n",
        "%ll -lAF /content/drive/MyDrive/\"Colab Notebooks\"/\n",
        "os.stat('/content/drive/MyDrive/Colab Notebooks/SWOT.gsheet')\n",
        "table = gs.open_by_key('1qlFhIagqcxFTlBYO9JMjfjkEijc-IQ7f6GM-4QAsq_w')\n",
        "worksheet = table.worksheet('Threats')\n",
        "rows = worksheet.get_all_values()\n",
        "name = list()\n",
        "actions = list()\n",
        "importance = list()\n",
        "probability = list()\n",
        "power = list()\n",
        "power_sh = list()\n",
        "power_raw = list()\n",
        "i=0\n",
        "for row in rows:\n",
        "  if(i>0):\n",
        "    print (i, row)\n",
        "    name.append(row[0])\n",
        "    actions.append(row[1])\n",
        "    importance.append(int(row[2]))\n",
        "    probability.append(float(row[3]))\n",
        "    power.append(int(row[2])*float(row[3]))\n",
        "    power_raw = list()\n",
        "    power_raw.append(int(row[2])*float(row[3]))\n",
        "    power_sh.append(power_raw)\n",
        "  i+=1\n",
        "worksheet.update('E2:E8', power_sh)\n",
        "print('\\n',name, actions, importance, probability, power, sep='\\n', end='\\n\\n')\n",
        "threats_sum = sum(power)\n",
        "print('Суммарная сила сильный сторон:', threats_sum)\n",
        "worksheet.update('F2', threats_sum)\n",
        "\n",
        "import matplotlib\n",
        "import matplotlib.pyplot as plt\n",
        "import numpy as np\n",
        "i=0\n",
        "labels = list()\n",
        "cols = worksheet.col_values(1)\n",
        "for col in cols:\n",
        "  if(i>0):\n",
        "    labels.append(i)\n",
        "  i+=1\n",
        "width = 0.4  \n",
        "fig, ax = plt.subplots()\n",
        "x = np.arange(len(labels))\n",
        "rects = ax.bar(x - width/2, power, width)\n",
        "ax.set_ylabel('Мощность воздействия')\n",
        "ax.set_title('Угрозы')\n",
        "ax.set_xticks(x)\n",
        "ax.set_xticklabels(labels)\n",
        "def autolabel(rects):\n",
        "    for rect in rects:\n",
        "        height = rect.get_height()\n",
        "        ax.annotate('{}'.format(height),\n",
        "                    xy=(rect.get_x() + rect.get_width() / 2, height),\n",
        "                    xytext=(0, 3), \n",
        "                    textcoords=\"offset points\",\n",
        "                    ha='center', va='bottom')\n",
        "autolabel(rects) \n",
        "fig.tight_layout()\n",
        "plt.show()              \n",
        "j=0\n",
        "for col in cols: \n",
        "  if(j>0):\n",
        "    print(j, '-', col)\n",
        "  j+=1"
      ],
      "execution_count": null,
      "outputs": [
        {
          "output_type": "stream",
          "text": [
            "total 73\n",
            "-rw------- 1 root  3918 Nov 18 12:55 'Karavaev (1).ipynb'\n",
            "-rw------- 1 root  3950 Dec  9 12:57  Karavaev.ipynb\n",
            "-rw------- 1 root 60827 Mar 25 14:46  SWOT_Analysis.ipynb\n",
            "-rw------- 1 root   151 Mar 25 14:45  SWOT.gsheet\n",
            "-rw------- 1 root    19 Nov 18 12:18  test1.txt\n",
            "-rw------- 1 root   241 Nov 18 11:11  test2.txt\n",
            "-rw------- 1 root  4023 Nov 18 12:55 'Копия блокнота \"Karavaev.ipynb\"'\n",
            "1 ['Конкуренция на рынке', 'Узконаправленная тематика с маленькой конкуренцией', '8', '0.5', '', '']\n",
            "2 ['Повышение цен на сырьё', 'Возможность найти новых поставщиков с более выгодными условиями', '8', '0.4', '', '']\n",
            "3 ['Броскость и надоедливость интерьера или тематики', 'Смена тематики кафе', '7', '0.5', '', '']\n",
            "4 ['Увольнение повара или кондитера', 'Начисление премий бонусов и других поощрений', '8', '0.4', '', '']\n",
            "\n",
            "\n",
            "['Конкуренция на рынке', 'Повышение цен на сырьё', 'Броскость и надоедливость интерьера или тематики', 'Увольнение повара или кондитера']\n",
            "['Узконаправленная тематика с маленькой конкуренцией', 'Возможность найти новых поставщиков с более выгодными условиями', 'Смена тематики кафе', 'Начисление премий бонусов и других поощрений']\n",
            "[8, 8, 7, 8]\n",
            "[0.5, 0.4, 0.5, 0.4]\n",
            "[4.0, 3.2, 3.5, 3.2]\n",
            "\n",
            "Суммарная сила сильный сторон: 13.899999999999999\n"
          ],
          "name": "stdout"
        },
        {
          "output_type": "display_data",
          "data": {
            "image/png": "[encoded data removed]",
            "text/plain": [
              "<Figure size 432x288 with 1 Axes>"
            ]
          },
          "metadata": {
            "tags": [],
            "needs_background": "light"
          }
        },
        {
          "output_type": "stream",
          "text": [
            "1 - Конкуренция на рынке\n",
            "2 - Повышение цен на сырьё\n",
            "3 - Броскость и надоедливость интерьера или тематики\n",
            "4 - Увольнение повара или кондитера\n"
          ],
          "name": "stdout"
        }
      ]
    },
    {
      "cell_type": "code",
      "metadata": {
        "colab": {
          "base_uri": "https://localhost:8080/",
          "height": 523
        },
        "id": "wg0Esz9pzi-4",
        "outputId": "f5642340-9e1b-4f0d-b7ca-78d4820dbd1e"
      },
      "source": [
        "\n",
        "worksheet = table.worksheet('Strengths')\n",
        "strengths_power = worksheet.acell('F2').value\n",
        "worksheet = table.worksheet('Weaknesses')\n",
        "weaknesses_power = worksheet.acell('F2').value\n",
        "worksheet = table.worksheet('Opportunities')\n",
        "opportunities_power = worksheet.acell('F2').value\n",
        "worksheet = table.worksheet('Threats')\n",
        "threats_power = worksheet.acell('F2').value\n",
        "worksheet = table.worksheet('Result')\n",
        "worksheet.update('A1', 'Суммарная сила сильных сторон')\n",
        "worksheet.update('A2', strengths_power)\n",
        "worksheet.update('B1', 'Суммарная сила слабых сторон') \n",
        "worksheet.update('B2', weaknesses_power)\n",
        "worksheet.update('A4', 'Суммарная сила возможностей') \n",
        "worksheet.update('A5', opportunities_power)\n",
        "worksheet.update('B4', 'Суммарная сила угроз') \n",
        "worksheet.update('B5', threats_power)\n",
        "result = float(strengths_power) - 1*float(weaknesses_power) + float(opportunities_power) - 1*float(threats_power)\n",
        "print('Результат:', result)\n",
        "worksheet = table.worksheet('Result')\n",
        "worksheet.update('A7', 'Результат')\n",
        "worksheet.update('A8', result)\n",
        "def matplot(element):\n",
        "    import matplotlib.pyplot as plt\n",
        "    x=list()\n",
        "    x_float=list()\n",
        "    title=list()\n",
        "    y_float=list()\n",
        "x_float = [1, 2, 3, 4, 5]\n",
        "y_float = [float(strengths_power), -1*float(weaknesses_power), float(opportunities_power), -1*float(threats_power),  result]\n",
        "title = [ \"Сильные стороны\", \"Слабые стороны\", \"Возможности\", \"Угорозы\", \"Результат\"]\n",
        "x_pos=list()\n",
        "i=0\n",
        "for i in range(x_float.__len__()):\n",
        "  x_pos.append(i)\n",
        "fig=plt.figure(figsize=(8,6), dpi=72)\n",
        "plt.bar(x_pos, y_float, width=0.75, align='edge', alpha=0.4)\n",
        "plt.xticks(x_pos,  x_float, fontsize=14)\n",
        "plt.xlabel('Обозначения', fontsize=14)\n",
        "plt.ylabel('Мощность воздействия', fontsize=14)\n",
        "plt.title('SWOT', fontsize=14)\n",
        "plt.grid(True, color='r', linestyle='-', linewidth=2)\n",
        "plt.show()\n",
        "for i in range(title.__len__()):\n",
        "  print(i+1, \" - \", title[i])\n",
        "  i += 1"
      ],
      "execution_count": null,
      "outputs": [
        {
          "output_type": "stream",
          "text": [
            "Результат: 23.799999999999997\n"
          ],
          "name": "stdout"
        },
        {
          "output_type": "display_data",
          "data": {
            "image/png": "[encoded data removed]",
            "text/plain": [
              "<Figure size 576x432 with 1 Axes>"
            ]
          },
          "metadata": {
            "tags": [],
            "needs_background": "light"
          }
        },
        {
          "output_type": "stream",
          "text": [
            "1  -  Сильные стороны\n",
            "2  -  Слабые стороны\n",
            "3  -  Возможности\n",
            "4  -  Угорозы\n",
            "5  -  Результат\n"
          ],
          "name": "stdout"
        }
      ]
    }
  ]
}